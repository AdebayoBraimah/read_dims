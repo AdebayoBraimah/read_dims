{
 "cells": [
  {
   "cell_type": "code",
   "execution_count": 2,
   "metadata": {},
   "outputs": [],
   "source": [
    "# Import modules\n",
    "import nibabel as nib\n",
    "import pandas as pd\n",
    "import os"
   ]
  },
  {
   "cell_type": "code",
   "execution_count": 3,
   "metadata": {},
   "outputs": [],
   "source": [
    "nii_file = \"C:/Users/smart/Desktop/read_dims/sub-C20_ses-001_run-02_T2w.nii.gz\""
   ]
  },
  {
   "cell_type": "code",
   "execution_count": 4,
   "metadata": {},
   "outputs": [
    {
     "data": {
      "text/plain": [
       "True"
      ]
     },
     "execution_count": 4,
     "metadata": {},
     "output_type": "execute_result"
    }
   ],
   "source": [
    "os.path.exists(nii_file)"
   ]
  },
  {
   "cell_type": "code",
   "execution_count": 5,
   "metadata": {},
   "outputs": [],
   "source": [
    "img = nib.load(nii_file)"
   ]
  },
  {
   "cell_type": "code",
   "execution_count": 6,
   "metadata": {},
   "outputs": [
    {
     "data": {
      "text/plain": [
       "<nibabel.nifti1.Nifti1Image at 0x23a956dee80>"
      ]
     },
     "execution_count": 6,
     "metadata": {},
     "output_type": "execute_result"
    }
   ],
   "source": [
    "img"
   ]
  },
  {
   "cell_type": "code",
   "execution_count": 10,
   "metadata": {
    "scrolled": true
   },
   "outputs": [
    {
     "name": "stdout",
     "output_type": "stream",
     "text": [
      "<class 'nibabel.nifti1.Nifti1Header'> object, endian='<'\n",
      "sizeof_hdr      : 348\n",
      "data_type       : b''\n",
      "db_name         : b''\n",
      "extents         : 0\n",
      "session_error   : 0\n",
      "regular         : b'r'\n",
      "dim_info        : 0\n",
      "dim             : [  3 512 512  35   1   1   1   1]\n",
      "intent_p1       : 0.0\n",
      "intent_p2       : 0.0\n",
      "intent_p3       : 0.0\n",
      "intent_code     : none\n",
      "datatype        : int16\n",
      "bitpix          : 16\n",
      "slice_start     : 0\n",
      "pixdim          : [-1.         0.313      0.313      3.0001009 19.376791   0.\n",
      "  0.         0.       ]\n",
      "vox_offset      : 0.0\n",
      "scl_slope       : nan\n",
      "scl_inter       : nan\n",
      "slice_end       : 0\n",
      "slice_code      : unknown\n",
      "xyzt_units      : 10\n",
      "cal_max         : 0.0\n",
      "cal_min         : 0.0\n",
      "slice_duration  : 0.0\n",
      "toffset         : 0.0\n",
      "glmax           : 0\n",
      "glmin           : 0\n",
      "descrip         : b'Time=0.000'\n",
      "aux_file        : b'IRC287H'\n",
      "qform_code      : scanner\n",
      "sform_code      : scanner\n",
      "quatern_b       : 0.45935443\n",
      "quatern_c       : -0.5364548\n",
      "quatern_d       : -0.48735195\n",
      "qoffset_x       : -21.586153\n",
      "qoffset_y       : 111.83115\n",
      "qoffset_z       : -57.632416\n",
      "srow_x          : [-1.5835123e-02  2.4036437e-03  2.9961703e+00 -2.1586153e+01]\n",
      "srow_y          : [-3.1092513e-01  3.2227449e-02 -1.5334636e-01  1.1183115e+02]\n",
      "srow_z          : [ 3.2308087e-02  3.1132719e-01 -7.2584860e-03 -5.7632416e+01]\n",
      "intent_name     : b''\n",
      "magic           : b'n+1'\n"
     ]
    }
   ],
   "source": [
    "header = img.header\n",
    "print(header)"
   ]
  },
  {
   "cell_type": "code",
   "execution_count": 15,
   "metadata": {},
   "outputs": [
    {
     "data": {
      "text/plain": [
       "array([0.313    , 0.313    , 3.0001009], dtype=float32)"
      ]
     },
     "execution_count": 15,
     "metadata": {},
     "output_type": "execute_result"
    }
   ],
   "source": [
    "img.header['pixdim'][1:4]"
   ]
  },
  {
   "cell_type": "code",
   "execution_count": 16,
   "metadata": {},
   "outputs": [],
   "source": [
    "def get_img_dims(nii_file):\n",
    "    '''\n",
    "    Ascertains image dimensions from input nifti image header.\n",
    "    \n",
    "    Arguments:\n",
    "        nii_file (nifti file): NifTi image filename with absolute filepath\n",
    "        \n",
    "    Returns: \n",
    "        x (float): X dimension length (in mm).\n",
    "        y (float): Y dimension length (in mm).\n",
    "        z (float): Z dimension length (in mm).\n",
    "    '''\n",
    "    \n",
    "    # Load image\n",
    "    img = nib.load(nii_file)\n",
    "    \n",
    "    # Store image dimensions\n",
    "    x = float(img.header['pixdim'][1])\n",
    "    y = float(img.header['pixdim'][2])\n",
    "    z = float(img.header['pixdim'][3])\n",
    "    \n",
    "    return x,y,z"
   ]
  },
  {
   "cell_type": "code",
   "execution_count": 30,
   "metadata": {},
   "outputs": [],
   "source": [
    "[x,y,z] = get_img_dims(nii_file=nii_file)"
   ]
  },
  {
   "cell_type": "code",
   "execution_count": 31,
   "metadata": {},
   "outputs": [
    {
     "data": {
      "text/plain": [
       "0.31299999356269836"
      ]
     },
     "execution_count": 31,
     "metadata": {},
     "output_type": "execute_result"
    }
   ],
   "source": [
    "x"
   ]
  },
  {
   "cell_type": "code",
   "execution_count": 32,
   "metadata": {},
   "outputs": [],
   "source": [
    "# z = y"
   ]
  },
  {
   "cell_type": "code",
   "execution_count": 33,
   "metadata": {},
   "outputs": [
    {
     "data": {
      "text/plain": [
       "0.3"
      ]
     },
     "execution_count": 33,
     "metadata": {},
     "output_type": "execute_result"
    }
   ],
   "source": [
    "round(x,1)"
   ]
  },
  {
   "cell_type": "code",
   "execution_count": 34,
   "metadata": {},
   "outputs": [
    {
     "data": {
      "text/plain": [
       "False"
      ]
     },
     "execution_count": 34,
     "metadata": {},
     "output_type": "execute_result"
    }
   ],
   "source": [
    "x == y == z"
   ]
  },
  {
   "cell_type": "code",
   "execution_count": 50,
   "metadata": {},
   "outputs": [],
   "source": [
    "def determine_orientation(nii_file,num_dec=1):\n",
    "    '''\n",
    "    Determines image acquisition direction from input nifti image.\n",
    "    \n",
    "    Arguments:\n",
    "        nii_file (nifti file): NifTi image filename with absolute filepath.\n",
    "        num_dec (int): Number of decimal places to round each voxel dimension to.\n",
    "        \n",
    "    Returns: \n",
    "        orientation (string): Output string that describes image acquisition direction\n",
    "        x (float): X dimension length (in mm).\n",
    "        y (float): Y dimension length (in mm).\n",
    "        z (float): Z dimension length (in mm).\n",
    "    '''\n",
    "    \n",
    "    # Determine image dimensions\n",
    "    [x,y,z] = get_img_dims(nii_file=nii_file)\n",
    "    \n",
    "    # Round values to managable numbers\n",
    "    x = round(x,num_dec)\n",
    "    y = round(y,num_dec)\n",
    "    z = round(z,num_dec)\n",
    "    \n",
    "    # Ascertain image acquisition direction\n",
    "    if x == y == z:\n",
    "        orientation = \"isotropic\"\n",
    "    elif x == y:\n",
    "        orientation = \"axial\"\n",
    "    elif x == z:\n",
    "        orientation = \"coronal\"\n",
    "    elif y == z:\n",
    "        orientation = \"sagittal\"\n",
    "    else:\n",
    "        orientation = \"inconsistent voxel sizes - review manually\"\n",
    "        \n",
    "    return orientation,x,y,z"
   ]
  },
  {
   "cell_type": "code",
   "execution_count": 46,
   "metadata": {},
   "outputs": [],
   "source": [
    "[o,x,y,z] = determine_orientation(nii_file=nii_file,num_dec=1)"
   ]
  },
  {
   "cell_type": "code",
   "execution_count": 54,
   "metadata": {},
   "outputs": [],
   "source": [
    "def write_spread(nii_file,out_file,num_dec=1,full_path=False):\n",
    "    '''\n",
    "    Writes image filename, dimensions, and acquisition direction to a\n",
    "    spreadsheet. If the spreadsheet already exists, then it is appended\n",
    "    to.\n",
    "    \n",
    "    Arguments:\n",
    "        nii_file (nifti file): NifTi image filename with absolute filepath.\n",
    "        out_file (csv file): Output csv file name and path. This file need not exist at runtime.\n",
    "        num_dec (int): Number of decimal places to round each voxel dimension to.\n",
    "        full_path (bool): Whether to write the absolute path (vs the basename) in the spreadsheet.\n",
    "            This option should be 'True' if all files in the spreadsheet are named similarly.\n",
    "            Otherwise, should be 'False' if all the files are labeled uniquely (i.e. BIDS data).\n",
    "        \n",
    "    Returns: \n",
    "        out_file (csv file): Output csv file name and path.\n",
    "    '''\n",
    "    \n",
    "    # Strip csv file extension from output file name\n",
    "    if '.csv' in out_file:\n",
    "        out_file = os.path.splitext(out_file)[0]\n",
    "        out_file = out_file + '.csv'\n",
    "    elif '.tsv' in out_file:\n",
    "        out_file = os.path.splitext(out_file)[0]\n",
    "        out_file = out_file + '.csv'\n",
    "    elif '.txt' in out_file:\n",
    "        out_file = os.path.splitext(out_file)[0]\n",
    "        out_file = out_file + '.csv'\n",
    "    else:\n",
    "        pass\n",
    "    \n",
    "    # Determine image orientation\n",
    "    [orientation,x,y,z] = determine_orientation(nii_file=nii_file,num_dec=num_dec)\n",
    "    \n",
    "    # Construct image data dictionary\n",
    "    if full_path:\n",
    "        file = os.path.abspath(nii_file)\n",
    "    else:\n",
    "        file = os.path.basename(nii_file)\n",
    "    \n",
    "    img_dict = {\"Filename\":[file],\n",
    "               \"x_vox\":[x],\n",
    "               \"y_vox\":[y],\n",
    "               \"z_vox\":[z],\n",
    "               \"Orientation\":[orientation]}\n",
    "    \n",
    "    # Create dataframe from image dictionary\n",
    "    df = pd.DataFrame.from_dict(img_dict,orient='columns')\n",
    "    \n",
    "    # Write output CSV file\n",
    "    if os.path.exists(out_file):\n",
    "        df.to_csv(out_file, sep=\",\", header=False, index=False, mode='a')\n",
    "    else:\n",
    "        df.to_csv(out_file, sep=\",\", header=True, index=False, mode='w')\n",
    "    \n",
    "    return out_file"
   ]
  },
  {
   "cell_type": "code",
   "execution_count": 52,
   "metadata": {},
   "outputs": [
    {
     "data": {
      "text/plain": [
       "'C:/Users/smart/Desktop/read_dims/sub-C20_ses-001_run-02_T2w.nii'"
      ]
     },
     "execution_count": 52,
     "metadata": {},
     "output_type": "execute_result"
    }
   ],
   "source": [
    "os.path.splitext(nii_file)[0]"
   ]
  },
  {
   "cell_type": "code",
   "execution_count": 48,
   "metadata": {},
   "outputs": [],
   "source": [
    "t = \"file\""
   ]
  },
  {
   "cell_type": "code",
   "execution_count": 49,
   "metadata": {},
   "outputs": [
    {
     "data": {
      "text/plain": [
       "('file', '')"
      ]
     },
     "execution_count": 49,
     "metadata": {},
     "output_type": "execute_result"
    }
   ],
   "source": [
    "os.path.splitext(t)"
   ]
  },
  {
   "cell_type": "code",
   "execution_count": 55,
   "metadata": {},
   "outputs": [
    {
     "data": {
      "text/plain": [
       "'test.csv'"
      ]
     },
     "execution_count": 55,
     "metadata": {},
     "output_type": "execute_result"
    }
   ],
   "source": [
    "write_spread(nii_file=nii_file,out_file='test.csv',num_dec=1)"
   ]
  },
  {
   "cell_type": "code",
   "execution_count": null,
   "metadata": {},
   "outputs": [],
   "source": []
  }
 ],
 "metadata": {
  "kernelspec": {
   "display_name": "Python 3",
   "language": "python",
   "name": "python3"
  },
  "language_info": {
   "codemirror_mode": {
    "name": "ipython",
    "version": 3
   },
   "file_extension": ".py",
   "mimetype": "text/x-python",
   "name": "python",
   "nbconvert_exporter": "python",
   "pygments_lexer": "ipython3",
   "version": "3.6.8"
  }
 },
 "nbformat": 4,
 "nbformat_minor": 2
}
